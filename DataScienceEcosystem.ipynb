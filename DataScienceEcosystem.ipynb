{
 "cells": [
  {
   "cell_type": "markdown",
   "id": "362b8ac4-3a31-49f2-ac49-9a7341d92f97",
   "metadata": {},
   "source": [
    "# Data Science Tools and Ecosystem"
   ]
  },
  {
   "cell_type": "markdown",
   "id": "d8bd6f27-d817-4578-a2d5-c782dffd160d",
   "metadata": {},
   "source": [
    "## Author:\n",
    "Namrud Sargon"
   ]
  },
  {
   "cell_type": "markdown",
   "id": "a6600cb7-8219-4cce-b88e-1849319d0b9c",
   "metadata": {},
   "source": [
    "In this notebook, Data Science Tools and Ecosystem are summarized."
   ]
  },
  {
   "cell_type": "markdown",
   "id": "7115f2cb-cb65-4182-b838-df29a6077e95",
   "metadata": {},
   "source": [
    "**Objectives:**"
   ]
  },
  {
   "cell_type": "markdown",
   "id": "fe69f5a7-55f1-46b5-be8c-a0fcc822bac3",
   "metadata": {},
   "source": [
    "- List popular languages for Data Science.\n",
    "- List popular open-source development environments.\n",
    "- Practice of arithmetic expressions in Python.\n",
    "- Practice on JupyterLab Notebook.\n",
    "- Learn about and practice how to use GitHub."
   ]
  },
  {
   "cell_type": "markdown",
   "id": "8d204f12-1c24-421c-a213-d42114e71aab",
   "metadata": {},
   "source": [
    "Some of the popular languages that Data Scientists use are:"
   ]
  },
  {
   "cell_type": "markdown",
   "id": "ad2c6c3d-1625-4d8d-a8f3-13c867af5034",
   "metadata": {},
   "source": [
    "1. Python\n",
    "2. R\n",
    "3. SQL\n",
    "4. Java"
   ]
  },
  {
   "cell_type": "markdown",
   "id": "7b779bf7-91bc-4c2d-a587-674edb656203",
   "metadata": {},
   "source": [
    "Some of the commonly used libraries used by Data Scientists include:"
   ]
  },
  {
   "cell_type": "markdown",
   "id": "66e2976d-eaba-4034-92a7-558883fdca2b",
   "metadata": {},
   "source": [
    "1. Pandas\n",
    "2. Matplotlib\n",
    "3. Seaborn\n",
    "4. NumPy"
   ]
  },
  {
   "cell_type": "markdown",
   "id": "3af721ed-c1b5-466b-a45a-e67a2c3bc583",
   "metadata": {},
   "source": [
    "| Data Science Tools |\n",
    "|-------------------|\n",
    "| Anaconda Navigator|\n",
    "| Jupyter Lab|\n",
    "| R Studio|"
   ]
  },
  {
   "cell_type": "markdown",
   "id": "92fcdae3-b181-40eb-83e4-ebedac2d75ee",
   "metadata": {},
   "source": [
    "### Below are a few examples of evaluating arithmetic expressions in Python"
   ]
  },
  {
   "cell_type": "code",
   "execution_count": 10,
   "id": "31659f68-3785-40e6-aa68-3d48d9c10c70",
   "metadata": {},
   "outputs": [],
   "source": [
    "# This a simple arithmetic expression to mutiply then add integers"
   ]
  },
  {
   "cell_type": "code",
   "execution_count": 12,
   "id": "0b64c266-cc38-4873-ad41-54a043a6f0a0",
   "metadata": {},
   "outputs": [
    {
     "data": {
      "text/plain": [
       "17"
      ]
     },
     "execution_count": 12,
     "metadata": {},
     "output_type": "execute_result"
    }
   ],
   "source": [
    "(3*4)+5"
   ]
  },
  {
   "cell_type": "code",
   "execution_count": 14,
   "id": "1a2a9ac3-3e37-41c0-8089-9e54e1e2ba8a",
   "metadata": {},
   "outputs": [],
   "source": [
    "# This will convert 200 minutes to hours by diving by 60"
   ]
  },
  {
   "cell_type": "code",
   "execution_count": 16,
   "id": "699e9aee-44df-43e0-9099-ff07a5c73a8f",
   "metadata": {},
   "outputs": [
    {
     "data": {
      "text/plain": [
       "3.3333333333333335"
      ]
     },
     "execution_count": 16,
     "metadata": {},
     "output_type": "execute_result"
    }
   ],
   "source": [
    "200 / 60"
   ]
  },
  {
   "cell_type": "code",
   "execution_count": null,
   "id": "3743ad7f-68e8-44bb-8b0e-9cdff2fe4189",
   "metadata": {},
   "outputs": [],
   "source": []
  },
  {
   "cell_type": "code",
   "execution_count": null,
   "id": "9269c568-f57a-47fe-a094-43d5a96ad8e3",
   "metadata": {},
   "outputs": [],
   "source": []
  }
 ],
 "metadata": {
  "kernelspec": {
   "display_name": "anaconda-2024.02-py310",
   "language": "python",
   "name": "conda-env-anaconda-2024.02-py310-py"
  },
  "language_info": {
   "codemirror_mode": {
    "name": "ipython",
    "version": 3
   },
   "file_extension": ".py",
   "mimetype": "text/x-python",
   "name": "python",
   "nbconvert_exporter": "python",
   "pygments_lexer": "ipython3",
   "version": "3.10.14"
  }
 },
 "nbformat": 4,
 "nbformat_minor": 5
}
